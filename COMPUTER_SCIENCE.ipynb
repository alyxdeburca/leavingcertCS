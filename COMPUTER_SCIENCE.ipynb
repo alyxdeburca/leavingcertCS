{
  "nbformat": 4,
  "nbformat_minor": 0,
  "metadata": {
    "colab": {
      "name": "COMPUTER_SCIENCE",
      "provenance": [],
      "collapsed_sections": [],
      "authorship_tag": "ABX9TyMrBHH6zNcNNu0LE4CedXkZ",
      "include_colab_link": true
    },
    "kernelspec": {
      "name": "python3",
      "display_name": "Python 3"
    },
    "language_info": {
      "name": "python"
    }
  },
  "cells": [
    {
      "cell_type": "markdown",
      "metadata": {
        "id": "view-in-github",
        "colab_type": "text"
      },
      "source": [
        "<a href=\"https://colab.research.google.com/github/alyxdeburca/leavingcertCS/blob/main/COMPUTER_SCIENCE.ipynb\" target=\"_parent\"><img src=\"https://colab.research.google.com/assets/colab-badge.svg\" alt=\"Open In Colab\"/></a>"
      ]
    },
    {
      "cell_type": "markdown",
      "source": [
        "> **2022 Higher Level Computer Science Question 16a Completed Answer**\n",
        "\n",
        "> [*Marking Scheme*](https://studyclix.blob.core.windows.net/static/content/file/pdfs/8/827cc4b0-0f89-4089-a7ae-3b3304b11f81.pdf)"
      ],
      "metadata": {
        "id": "jDLxSSLY9N29"
      }
    },
    {
      "cell_type": "code",
      "source": [
        "# Question 16(a)\n",
        "# Examination Number:\n",
        "\n",
        "# function definition used in part (v)\n",
        "def is_anagram(w1, w2):\n",
        "    if sorted(w1) == sorted(w2):\n",
        "        return True\n",
        "    else:\n",
        "        return False\n",
        "\n",
        "word1 = input(\"Enter the first word: \")\n",
        "word2 = input(\"Enter the second word: \")\n",
        "\n",
        "word1caps = word1.upper()\n",
        "word2caps = word2.upper()\n",
        "# test whether the sorted strings are the same as each other\n",
        "# if the sorted strings are the same then they must be anagrams\n",
        "if (sorted(word1caps) == sorted(word2caps)):\n",
        "    print(word1 + \" is an anagram of \" + word2)\n",
        "else:\n",
        "    print(word1 + \" is NOT an anagram of \" + word2)\n",
        "\n",
        "phrase = input(\"Enter a phrase: \")\n",
        "phrasecaps = phrase.upper()\n",
        "phrasecaps = phrasecaps.replace(' ', '')\n",
        "\n",
        "if (sorted(word1caps) == sorted(word2caps) and sorted(word1caps) == sorted(phrasecaps)):\n",
        "    print(word1 + \" and \" + word2 + \" are both anagrams of \" + phrase)\n",
        "elif (sorted(word1caps) == sorted(phrasecaps)):\n",
        "    print(word1 + \" is an anagram of \" + phrase)\n",
        "elif (sorted(word2caps) == sorted(phrasecaps)):\n",
        "    print(word2 + \" is an anagram of \" + phrase)\n",
        "else:\n",
        "    print(\"Neither \" + word1 + \" nor \" + word2 + \" are anagrams of \" +phrase) "
      ],
      "metadata": {
        "colab": {
          "base_uri": "https://localhost:8080/"
        },
        "id": "EcVY3zcT9NpN",
        "outputId": "ea9403c7-14ff-442b-a2f8-c063fa54fb33"
      },
      "execution_count": 122,
      "outputs": [
        {
          "output_type": "stream",
          "name": "stdout",
          "text": [
            "Enter the first word: listen\n",
            "Enter the second word: silent\n",
            "listen is an anagram of silent\n",
            "Enter a phrase: list en\n",
            "listen and silent are both anagrams of list en\n"
          ]
        }
      ]
    },
    {
      "cell_type": "markdown",
      "source": [
        "> **2020 Higher Level Computer Science Question 16a Completed Answer**\n",
        "\n",
        "> [*Marking Scheme*](https://studyclix.blob.core.windows.net/static/content/file/pdfs/9/925d6d7d-48d5-4c5d-ac79-bf4d3fd9fc2d.pdf)"
      ],
      "metadata": {
        "id": "-cO7POictnrE"
      }
    },
    {
      "cell_type": "code",
      "execution_count": 39,
      "metadata": {
        "colab": {
          "base_uri": "https://localhost:8080/"
        },
        "id": "fecfBoRAoNPg",
        "outputId": "fc6e5f0f-580b-44b0-db7f-c230f216e1a8"
      },
      "outputs": [
        {
          "output_type": "stream",
          "name": "stdout",
          "text": [
            "Enter a password: 3Sunshine7\n",
            "Password: 3Sunshine7\n",
            "22\n"
          ]
        }
      ],
      "source": [
        "# Question 16(a)\n",
        "# Examination Number:\n",
        "# Prompt the user to enter a password and store the ...\n",
        "# value entered in the variable password\n",
        "password = input(\"Enter a password: \")\n",
        "# A variable to store all the lowercase letters in the alphabet\n",
        "LOWER_CASE_LETTERS = \"abcdefghijklmnopqrstuvwxyz\"\n",
        "UPPER_CASE_LETTERS = \"ABCDEFGHIJKLMNOPQRSTUVWXYZ\"\n",
        "NUMBERS = \"0123456789\"\n",
        "# The variables lowercase and uppercase indicate the presence or ...\n",
        "# absence of lowercase and uppercase characters in the password\n",
        "lowercase = False # True if password contains a lowercase letter\n",
        "uppercase = False # True if password contains an uppercase letter\n",
        "numbered = False\n",
        "numbersOnly = True\n",
        "# Loop through each character in the password and ...\n",
        "# check the password for specific characters\n",
        "for character in password:\n",
        "  if character in LOWER_CASE_LETTERS:\n",
        "    lowercase = True\n",
        "    numbersOnly = False\n",
        "  if character in UPPER_CASE_LETTERS:\n",
        "    uppercase = True\n",
        "    numbersOnly = False\n",
        "  if character in NUMBERS:\n",
        "    numbered = True\n",
        "\n",
        "# Calculate the score based on the rules\n",
        "# Initialise score\n",
        "score = 0\n",
        "\n",
        "# Rule 1\n",
        "if len(password) > 7:\n",
        "  score = score + 5\n",
        "elif len(password) < 4:\n",
        "  score = score -2\n",
        "else:\n",
        "  score = score + 2\n",
        "  \n",
        "# Rule 2\n",
        "if lowercase:\n",
        "  score = score + 1\n",
        "\n",
        "# Rule 3\n",
        "if lowercase and uppercase:\n",
        "  score = score + 5\n",
        "\n",
        "# Rule 4\n",
        "if uppercase:\n",
        "  score = score + 2\n",
        "\n",
        "# Rule 5\n",
        "if numbered:\n",
        "  score = score + 5\n",
        "\n",
        "# Rule 6 \n",
        "if password[0] in NUMBERS:\n",
        "  score = score + 1\n",
        "if password[-1] in NUMBERS:\n",
        "  score = score + 1\n",
        "if password[0] in NUMBERS and password[-1] in NUMBERS:\n",
        "  score = score +2\n",
        "\n",
        "# Rule 7\n",
        "if numbersOnly:\n",
        "  score = score - 10\n",
        "\n",
        "# Display the score\n",
        "print(\"Password: \" + password)\n",
        "print(score)"
      ]
    },
    {
      "cell_type": "markdown",
      "source": [
        "> **2020 Higher Level Computer Science Question 16b Completed Answer**\n",
        "\n",
        "> [*Marking Scheme*](https://studyclix.blob.core.windows.net/static/content/file/pdfs/9/925d6d7d-48d5-4c5d-ac79-bf4d3fd9fc2d.pdf)"
      ],
      "metadata": {
        "id": "pzx7H1vtt8fK"
      }
    },
    {
      "cell_type": "code",
      "source": [
        "# Question 16(b)\n",
        "# Examination Number:\n",
        "# A variable to store all the lower case letters in the alphabet\n",
        "\n",
        "LOWER_CASE_LETTERS = \"abcdefghijklmnopqrstuvwxyz\"\n",
        "\n",
        "previous_score = 10000\n",
        "\n",
        "strong_passwords = []\n",
        "def calculate_score(password):\n",
        " # The variables lowercase and uppercase indicate the presence or\n",
        " # absence of lowercase and uppercase characters in the password\n",
        " lowercase = False #True if password contains a lowercase letter\n",
        " uppercase = False #True if password contains an uppercase letter\n",
        " # Loop through each character in the password and ...\n",
        " # ... check the password for specific characters\n",
        " for character in password:\n",
        "   if character in LOWER_CASE_LETTERS:\n",
        "     lowercase = True\n",
        "   if character in \"ABCDEFGHIJKLMNOPQRSTUVWXYZ\":\n",
        "     uppercase = True\n",
        "# Calculate the score based on the rules\n",
        " score = 0\n",
        "# Rule 1\n",
        " if len(password) > 7:\n",
        "   score = score + 5\n",
        " # Rule 2\n",
        " if lowercase:\n",
        "   score = score + 1\n",
        " # Rule 3\n",
        " if lowercase and uppercase:\n",
        "   score = score + 5\n",
        " return score\n",
        "def is_strong(password):\n",
        "  if pass_score >= 11:\n",
        "    return True\n",
        "  else:\n",
        "    return False\n",
        "\n",
        "# Test driver\n",
        "test_passwords = [\"sun\", \"Sun\", \"Sunshine\", \"12345\", \"Moonlight\"]\n",
        "print(\"Score    Password\")\n",
        "print(\"-----    --------\")\n",
        "print(\"\")\n",
        "for password in test_passwords:\n",
        " pass_score = calculate_score(password)\n",
        " if is_strong(password):\n",
        "   strong_passwords.append(password)\n",
        " if pass_score < previous_score:\n",
        "   previous_score_name = password\n",
        "   previous_score = pass_score\n",
        " if pass_score < 10:\n",
        "   print(str(pass_score) + \"        \" + password)\n",
        " else: \n",
        "   print(str(pass_score) + \"       \" + password)\n",
        "\n",
        "print(\"The weakest password is \" + previous_score_name)\n",
        "print(\"Score: \" +str(previous_score))\n",
        "print(\"\")\n",
        "print(\"The strong passwords are:\")\n",
        "for password in strong_passwords:\n",
        "  print(password)"
      ],
      "metadata": {
        "colab": {
          "base_uri": "https://localhost:8080/"
        },
        "id": "yKV96Q8LuDtP",
        "outputId": "9e442c69-d229-4808-d039-ab498ea974bf"
      },
      "execution_count": 63,
      "outputs": [
        {
          "output_type": "stream",
          "name": "stdout",
          "text": [
            "Score    Password\n",
            "-----    --------\n",
            "\n",
            "1        sun\n",
            "6        Sun\n",
            "11       Sunshine\n",
            "0        12345\n",
            "11       Moonlight\n",
            "The weakest password is 12345\n",
            "Score: 0\n",
            "\n",
            "The strong passwords are:\n",
            "Sunshine\n",
            "Moonlight\n"
          ]
        }
      ]
    },
    {
      "cell_type": "markdown",
      "source": [
        "> **2020 Higher Level Computer Science Sample Paper Question 16a Completed Answer**\n",
        "\n",
        "> [*Exam Paper*](https://studyclix.blob.core.windows.net/static/content/file/pdfs/9/9308b46d-0d09-4ab2-993e-ba8bfa907f37.pdf)\n",
        "\n",
        "*No Marking Scheme Available*\n",
        "\n"
      ],
      "metadata": {
        "id": "Jf78E6dCyMyl"
      }
    },
    {
      "cell_type": "code",
      "source": [
        "# Question 16(a)\n",
        "# Examination Number:\n",
        "def display_intro():\n",
        " print(\"Welcome to my BMI calculator!\")\n",
        "\n",
        "display_intro()\n",
        "# Read weight\n",
        "weight = int(input(\"Enter weight (in kilograms): \"))\n",
        "height = int(input(\"Enter height (in centimetres): \"))\n",
        "\n",
        "bmi = weight / height **2 * 10000\n",
        "print(\"BMI is: \", round(bmi,1))\n",
        "\n",
        "if bmi < 18.5:\n",
        "  print(\"Underweight\")\n",
        "elif bmi > 30:\n",
        "  print(\"Obese\")\n",
        "elif bmi >= 25:\n",
        "  print(\"Overweight\")\n",
        "else:\n",
        "  print(\"Normal\")"
      ],
      "metadata": {
        "colab": {
          "base_uri": "https://localhost:8080/"
        },
        "id": "75kWz9ubya9V",
        "outputId": "c46df23d-4304-432e-f461-e107caee854c"
      },
      "execution_count": 86,
      "outputs": [
        {
          "output_type": "stream",
          "name": "stdout",
          "text": [
            "Welcome to my BMI calculator!\n",
            "Enter weight (in kilograms): 90\n",
            "Enter height (in centimetres): 170\n",
            "BMI is:  31.1\n",
            "Obese\n"
          ]
        }
      ]
    },
    {
      "cell_type": "markdown",
      "source": [
        "> **2020 Computer Science Sample Paper Question 16b Completed Answer**\n",
        "\n",
        "> [*Exam Paper*](https://studyclix.blob.core.windows.net/static/content/file/pdfs/9/9308b46d-0d09-4ab2-993e-ba8bfa907f37.pdf)\n",
        "\n",
        "*No Marking Scheme Available*"
      ],
      "metadata": {
        "id": "vUYwVW0L0o03"
      }
    },
    {
      "cell_type": "code",
      "source": [
        "# Question 16(b)\n",
        "# Examination Number:\n",
        "\n",
        "# For this question it is useful to understand ...\n",
        "# 1. randint(a, b) returns a random integer N such that a<=N<=b.\n",
        "# 2. s.append(x) appends the element x to the end of list s.\n",
        "\n",
        "from random import *\n",
        "\n",
        "heights = [] # an empty list of heights\n",
        "weights = [] # an empty list of weights\n",
        "bmi_values = []\n",
        "\n",
        "loop_repeat = input(\"Enter the number of pairs of values you wish to generate: \")\n",
        "\n",
        "# Loop to build up the lists with random values\n",
        "for count in range(int(loop_repeat)):\n",
        "  # a random integer between 150 and 210\n",
        "  height = randint(150, 210)\n",
        "  heights.append(height)\n",
        "  # a random integer between 50 and 130\n",
        "  weight = randint(50, 130)\n",
        "  weights.append(weight)\n",
        "  bmi = weight / height **2 * 10000\n",
        "  bmi_values.append(round(bmi,1))\n",
        "# Display the lists\n",
        "print(\"Heights: \" + str(heights))\n",
        "print(\"Weights: \" + str(weights))\n",
        "print(\"BMI Values: \" + str(bmi_values))"
      ],
      "metadata": {
        "colab": {
          "base_uri": "https://localhost:8080/"
        },
        "id": "KON1-gwZ0ubp",
        "outputId": "f722aa21-867b-44f1-9e24-cb1be6ee5b32"
      },
      "execution_count": 96,
      "outputs": [
        {
          "output_type": "stream",
          "name": "stdout",
          "text": [
            "Enter the number of pairs of values you wish to generate: 7\n",
            "Heights: [186, 195, 206, 207, 156, 200, 196]\n",
            "Weights: [118, 92, 117, 95, 122, 99, 79]\n",
            "BMI Values: [34.1, 24.2, 27.6, 22.2, 50.1, 24.8, 20.6]\n"
          ]
        }
      ]
    },
    {
      "cell_type": "markdown",
      "source": [
        "> **2020 Computer Science Sample Paper Question 16c Completed Answer**\n",
        "\n",
        "> [*Exam Paper*](https://studyclix.blob.core.windows.net/static/content/file/pdfs/9/9308b46d-0d09-4ab2-993e-ba8bfa907f37.pdf)\n",
        "\n",
        "*No Marking Scheme Available*"
      ],
      "metadata": {
        "id": "LDcvkPFG2RPu"
      }
    },
    {
      "cell_type": "code",
      "source": [
        "# Question 16(c)\n",
        "# Examination Number:\n",
        "obesity_rate = 0\n",
        "\n",
        "bmi_values = [24, 19, 33, 35, 27, 18, 15, 33, 35, 23, 32, 23]\n",
        "\n",
        "def find_nth_largest(n, list_of_values): \n",
        "  previous_value = 0\n",
        "  list_of_values.sort(reverse=True)\n",
        "  for value in list_of_values:\n",
        "    if value == previous_value:\n",
        "      print(value)\n",
        "      list_of_values.remove(value)\n",
        "\n",
        "  list_of_values.sort(reverse=True)\n",
        "  return list_of_values[n]\n",
        "\n",
        "\n",
        "for value in bmi_values:\n",
        "  if value > 30:\n",
        "    obesity_rate = obesity_rate +1\n",
        "print(\"Obese: \" + str(obesity_rate))\n",
        "bmi_values.sort()\n",
        "print(\"Largest: \" + str(bmi_values[-1]))\n",
        "if bmi_values[-2] != bmi_values[-1]:\n",
        "  print(\"Second Largest: \" + str(bmi_values[-2]))\n",
        "else:\n",
        "  while bmi_values[-2] == bmi_values[-1]:\n",
        "    bmi_values.remove(bmi_values[-2])\n",
        "    print(\"Second Largest: \" + str(bmi_values[-2]))\n",
        "print(find_nth_largest(3, bmi_values))"
      ],
      "metadata": {
        "colab": {
          "base_uri": "https://localhost:8080/"
        },
        "id": "4vY0BK6U2W2z",
        "outputId": "eafcde66-da21-47d1-ba41-0e18cdf5d80e"
      },
      "execution_count": 121,
      "outputs": [
        {
          "output_type": "stream",
          "name": "stdout",
          "text": [
            "Obese: 5\n",
            "Largest: 35\n",
            "Second Largest: 33\n",
            "32\n"
          ]
        }
      ]
    }
  ]
}